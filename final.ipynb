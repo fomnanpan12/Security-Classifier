{
 "cells": [
  {
   "cell_type": "code",
   "execution_count": 1,
   "id": "edd13660",
   "metadata": {},
   "outputs": [],
   "source": [
    "import re\n",
    "import string\n",
    "import numpy as np\n",
    "import pandas as pd\n",
    "from sklearn.pipeline import Pipeline\n",
    "from sklearn.base import BaseEstimator, TransformerMixin\n",
    "from sklearn.feature_extraction.text import TfidfVectorizer\n",
    "from sklearn.ensemble import RandomForestClassifier\n",
    "from sklearn.preprocessing import LabelEncoder\n",
    "from sklearn.model_selection import train_test_split\n",
    "from sklearn.metrics import classification_report, confusion_matrix\n",
    "import spacy\n",
    "from spacy.lang.en.stop_words import STOP_WORDS\n",
    "\n",
    "# Initialize spaCy\n",
    "nlp = spacy.load(\"en_core_web_sm\", disable=[\"parser\", \"ner\"])"
   ]
  },
  {
   "cell_type": "code",
   "execution_count": 2,
   "id": "98cbd3a2",
   "metadata": {},
   "outputs": [],
   "source": [
    "class TextPreprocessor(BaseEstimator, TransformerMixin):\n",
    "    def __init__(self):\n",
    "        self.keep_words = {\n",
    "            \"not\", \"no\", \"never\", \"none\",\n",
    "            \"can\", \"could\", \"may\", \"might\", \"must\", \"should\",\n",
    "            \"all\", \"any\", \"some\", \"few\", \"many\",\n",
    "            \"now\", \"soon\", \"immediately\", \"recently\",\n",
    "            \"if\", \"unless\", \"until\",\n",
    "            \"high\", \"critical\", \"low\", \"medium\", \"zero\"\n",
    "        }\n",
    "        \n",
    "        # Update stop words\n",
    "        for word in self.keep_words:\n",
    "            if word in STOP_WORDS:\n",
    "                STOP_WORDS.remove(word)\n",
    "    \n",
    "    def clean_text(self, text):\n",
    "        text = text.lower()\n",
    "        text = re.sub(r'http\\S+|www\\S+|https\\S+', '', text, flags=re.MULTILINE)\n",
    "        text = re.sub(r'<.*?>', '', text)\n",
    "        text = text.translate(str.maketrans('', '', string.punctuation))\n",
    "        text = re.sub(r'\\d+', '', text)\n",
    "        text = re.sub(r'\\s+', ' ', text).strip()\n",
    "        return text\n",
    "    \n",
    "    def preprocess_text(self, text):\n",
    "        doc = nlp(text)\n",
    "        tokens = [\n",
    "            token.lemma_.lower() \n",
    "            for token in doc \n",
    "            if not token.is_stop \n",
    "            and not token.is_punct \n",
    "            and token.is_alpha\n",
    "            and len(token.lemma_) > 1\n",
    "        ]\n",
    "        return \" \".join(tokens)\n",
    "    \n",
    "    def fit(self, X, y=None):\n",
    "        return self\n",
    "    \n",
    "    def transform(self, X):\n",
    "        if isinstance(X, pd.Series):\n",
    "            return X.apply(lambda x: self.preprocess_text(self.clean_text(x)))\n",
    "        elif isinstance(X, np.ndarray):\n",
    "            return np.array([self.preprocess_text(self.clean_text(text)) for text in X])\n",
    "        elif isinstance(X, str):\n",
    "            return np.array([self.preprocess_text(self.clean_text(X))])\n",
    "        else:\n",
    "            raise ValueError(\"Input must be string, NumPy array, or Pandas Series\")"
   ]
  },
  {
   "cell_type": "code",
   "execution_count": 67,
   "id": "6a522f51",
   "metadata": {},
   "outputs": [],
   "source": [
    "df = pd.read_csv(\"Nigeria_Incident_Tracking.csv\", encoding='latin1')  # or 'ISO-8859-1'\n"
   ]
  },
  {
   "cell_type": "code",
   "execution_count": 68,
   "id": "ff93e7b8",
   "metadata": {},
   "outputs": [],
   "source": [
    "df = df.dropna()"
   ]
  },
  {
   "cell_type": "code",
   "execution_count": 71,
   "id": "81826b66",
   "metadata": {},
   "outputs": [],
   "source": [
    "# Assuming df is your DataFrame with text in column 4 and labels in column 3\n",
    "X = df.iloc[:, 4]\n",
    "y = df.iloc[:, 3]"
   ]
  },
  {
   "cell_type": "code",
   "execution_count": 72,
   "id": "014868a9",
   "metadata": {},
   "outputs": [
    {
     "data": {
      "image/png": "[encoded data removed]",
      "text/plain": [
       "<Figure size 640x480 with 1 Axes>"
      ]
     },
     "metadata": {},
     "output_type": "display_data"
    }
   ],
   "source": [
    "import matplotlib.pyplot as plt\n",
    "import numpy as np  # Only needed if generating random data\n",
    "\n",
    "# Example data (replace with your 'x')\n",
    "# x = np.random.normal(0, 1, 1000)  # 1000 random numbers from a normal distribution\n",
    "\n",
    "# Plot histogram\n",
    "plt.hist(y, bins=30, edgecolor='black', alpha=0.7)\n",
    "plt.title(\"Histogram of y\")\n",
    "plt.xlabel(\"Values\")\n",
    "plt.ylabel(\"Frequency\")\n",
    "plt.grid(True, linestyle='--', alpha=0.5)\n",
    "plt.show()"
   ]
  },
  {
   "cell_type": "code",
   "execution_count": 73,
   "id": "18a95b3e",
   "metadata": {},
   "outputs": [],
   "source": [
    "# Encode labels\n",
    "le = LabelEncoder()\n",
    "y = le.fit_transform(y)"
   ]
  },
  {
   "cell_type": "code",
   "execution_count": 74,
   "metadata": {},
   "outputs": [
    {
     "data": {
      "text/html": [
       "<style>#sk-container-id-2 {\n",
       "  /* Definition of color scheme common for light and dark mode */\n",
       "  --sklearn-color-text: #000;\n",
       "  --sklearn-color-text-muted: #666;\n",
       "  --sklearn-color-line: gray;\n",
       "  /* Definition of color scheme for unfitted estimators */\n",
       "  --sklearn-color-unfitted-level-0: #fff5e6;\n",
       "  --sklearn-color-unfitted-level-1: #f6e4d2;\n",
       "  --sklearn-color-unfitted-level-2: #ffe0b3;\n",
       "  --sklearn-color-unfitted-level-3: chocolate;\n",
       "  /* Definition of color scheme for fitted estimators */\n",
       "  --sklearn-color-fitted-level-0: #f0f8ff;\n",
       "  --sklearn-color-fitted-level-1: #d4ebff;\n",
       "  --sklearn-color-fitted-level-2: #b3dbfd;\n",
       "  --sklearn-color-fitted-level-3: cornflowerblue;\n",
       "\n",
       "  /* Specific color for light theme */\n",
       "  --sklearn-color-text-on-default-background: var(--sg-text-color, var(--theme-code-foreground, var(--jp-content-font-color1, black)));\n",
       "  --sklearn-color-background: var(--sg-background-color, var(--theme-background, var(--jp-layout-color0, white)));\n",
       "  --sklearn-color-border-box: var(--sg-text-color, var(--theme-code-foreground, var(--jp-content-font-color1, black)));\n",
       "  --sklearn-color-icon: #696969;\n",
       "\n",
       "  @media (prefers-color-scheme: dark) {\n",
       "    /* Redefinition of color scheme for dark theme */\n",
       "    --sklearn-color-text-on-default-background: var(--sg-text-color, var(--theme-code-foreground, var(--jp-content-font-color1, white)));\n",
       "    --sklearn-color-background: var(--sg-background-color, var(--theme-background, var(--jp-layout-color0, #111)));\n",
       "    --sklearn-color-border-box: var(--sg-text-color, var(--theme-code-foreground, var(--jp-content-font-color1, white)));\n",
       "    --sklearn-color-icon: #878787;\n",
       "  }\n",
       "}\n",
       "\n",
       "#sk-container-id-2 {\n",
       "  color: var(--sklearn-color-text);\n",
       "}\n",
       "\n",
       "#sk-container-id-2 pre {\n",
       "  padding: 0;\n",
       "}\n",
       "\n",
       "#sk-container-id-2 input.sk-hidden--visually {\n",
       "  border: 0;\n",
       "  clip: rect(1px 1px 1px 1px);\n",
       "  clip: rect(1px, 1px, 1px, 1px);\n",
       "  height: 1px;\n",
       "  margin: -1px;\n",
       "  overflow: hidden;\n",
       "  padding: 0;\n",
       "  position: absolute;\n",
       "  width: 1px;\n",
       "}\n",
       "\n",
       "#sk-container-id-2 div.sk-dashed-wrapped {\n",
       "  border: 1px dashed var(--sklearn-color-line);\n",
       "  margin: 0 0.4em 0.5em 0.4em;\n",
       "  box-sizing: border-box;\n",
       "  padding-bottom: 0.4em;\n",
       "  background-color: var(--sklearn-color-background);\n",
       "}\n",
       "\n",
       "#sk-container-id-2 div.sk-container {\n",
       "  /* jupyter's `normalize.less` sets `[hidden] { display: none; }`\n",
       "     but bootstrap.min.css set `[hidden] { display: none !important; }`\n",
       "     so we also need the `!important` here to be able to override the\n",
       "     default hidden behavior on the sphinx rendered scikit-learn.org.\n",
       "     See: https://github.com/scikit-learn/scikit-learn/issues/21755 */\n",
       "  display: inline-block !important;\n",
       "  position: relative;\n",
       "}\n",
       "\n",
       "#sk-container-id-2 div.sk-text-repr-fallback {\n",
       "  display: none;\n",
       "}\n",
       "\n",
       "div.sk-parallel-item,\n",
       "div.sk-serial,\n",
       "div.sk-item {\n",
       "  /* draw centered vertical line to link estimators */\n",
       "  background-image: linear-gradient(var(--sklearn-color-text-on-default-background), var(--sklearn-color-text-on-default-background));\n",
       "  background-size: 2px 100%;\n",
       "  background-repeat: no-repeat;\n",
       "  background-position: center center;\n",
       "}\n",
       "\n",
       "/* Parallel-specific style estimator block */\n",
       "\n",
       "#sk-container-id-2 div.sk-parallel-item::after {\n",
       "  content: \"\";\n",
       "  width: 100%;\n",
       "  border-bottom: 2px solid var(--sklearn-color-text-on-default-background);\n",
       "  flex-grow: 1;\n",
       "}\n",
       "\n",
       "#sk-container-id-2 div.sk-parallel {\n",
       "  display: flex;\n",
       "  align-items: stretch;\n",
       "  justify-content: center;\n",
       "  background-color: var(--sklearn-color-background);\n",
       "  position: relative;\n",
       "}\n",
       "\n",
       "#sk-container-id-2 div.sk-parallel-item {\n",
       "  display: flex;\n",
       "  flex-direction: column;\n",
       "}\n",
       "\n",
       "#sk-container-id-2 div.sk-parallel-item:first-child::after {\n",
       "  align-self: flex-end;\n",
       "  width: 50%;\n",
       "}\n",
       "\n",
       "#sk-container-id-2 div.sk-parallel-item:last-child::after {\n",
       "  align-self: flex-start;\n",
       "  width: 50%;\n",
       "}\n",
       "\n",
       "#sk-container-id-2 div.sk-parallel-item:only-child::after {\n",
       "  width: 0;\n",
       "}\n",
       "\n",
       "/* Serial-specific style estimator block */\n",
       "\n",
       "#sk-container-id-2 div.sk-serial {\n",
       "  display: flex;\n",
       "  flex-direction: column;\n",
       "  align-items: center;\n",
       "  background-color: var(--sklearn-color-background);\n",
       "  padding-right: 1em;\n",
       "  padding-left: 1em;\n",
       "}\n",
       "\n",
       "\n",
       "/* Toggleable style: style used for estimator/Pipeline/ColumnTransformer box that is\n",
       "clickable and can be expanded/collapsed.\n",
       "- Pipeline and ColumnTransformer use this feature and define the default style\n",
       "- Estimators will overwrite some part of the style using the `sk-estimator` class\n",
       "*/\n",
       "\n",
       "/* Pipeline and ColumnTransformer style (default) */\n",
       "\n",
       "#sk-container-id-2 div.sk-toggleable {\n",
       "  /* Default theme specific background. It is overwritten whether we have a\n",
       "  specific estimator or a Pipeline/ColumnTransformer */\n",
       "  background-color: var(--sklearn-color-background);\n",
       "}\n",
       "\n",
       "/* Toggleable label */\n",
       "#sk-container-id-2 label.sk-toggleable__label {\n",
       "  cursor: pointer;\n",
       "  display: flex;\n",
       "  width: 100%;\n",
       "  margin-bottom: 0;\n",
       "  padding: 0.5em;\n",
       "  box-sizing: border-box;\n",
       "  text-align: center;\n",
       "  align-items: start;\n",
       "  justify-content: space-between;\n",
       "  gap: 0.5em;\n",
       "}\n",
       "\n",
       "#sk-container-id-2 label.sk-toggleable__label .caption {\n",
       "  font-size: 0.6rem;\n",
       "  font-weight: lighter;\n",
       "  color: var(--sklearn-color-text-muted);\n",
       "}\n",
       "\n",
       "#sk-container-id-2 label.sk-toggleable__label-arrow:before {\n",
       "  /* Arrow on the left of the label */\n",
       "  content: \"▸\";\n",
       "  float: left;\n",
       "  margin-right: 0.25em;\n",
       "  color: var(--sklearn-color-icon);\n",
       "}\n",
       "\n",
       "#sk-container-id-2 label.sk-toggleable__label-arrow:hover:before {\n",
       "  color: var(--sklearn-color-text);\n",
       "}\n",
       "\n",
       "/* Toggleable content - dropdown */\n",
       "\n",
       "#sk-container-id-2 div.sk-toggleable__content {\n",
       "  max-height: 0;\n",
       "  max-width: 0;\n",
       "  overflow: hidden;\n",
       "  text-align: left;\n",
       "  /* unfitted */\n",
       "  background-color: var(--sklearn-color-unfitted-level-0);\n",
       "}\n",
       "\n",
       "#sk-container-id-2 div.sk-toggleable__content.fitted {\n",
       "  /* fitted */\n",
       "  background-color: var(--sklearn-color-fitted-level-0);\n",
       "}\n",
       "\n",
       "#sk-container-id-2 div.sk-toggleable__content pre {\n",
       "  margin: 0.2em;\n",
       "  border-radius: 0.25em;\n",
       "  color: var(--sklearn-color-text);\n",
       "  /* unfitted */\n",
       "  background-color: var(--sklearn-color-unfitted-level-0);\n",
       "}\n",
       "\n",
       "#sk-container-id-2 div.sk-toggleable__content.fitted pre {\n",
       "  /* unfitted */\n",
       "  background-color: var(--sklearn-color-fitted-level-0);\n",
       "}\n",
       "\n",
       "#sk-container-id-2 input.sk-toggleable__control:checked~div.sk-toggleable__content {\n",
       "  /* Expand drop-down */\n",
       "  max-height: 200px;\n",
       "  max-width: 100%;\n",
       "  overflow: auto;\n",
       "}\n",
       "\n",
       "#sk-container-id-2 input.sk-toggleable__control:checked~label.sk-toggleable__label-arrow:before {\n",
       "  content: \"▾\";\n",
       "}\n",
       "\n",
       "/* Pipeline/ColumnTransformer-specific style */\n",
       "\n",
       "#sk-container-id-2 div.sk-label input.sk-toggleable__control:checked~label.sk-toggleable__label {\n",
       "  color: var(--sklearn-color-text);\n",
       "  background-color: var(--sklearn-color-unfitted-level-2);\n",
       "}\n",
       "\n",
       "#sk-container-id-2 div.sk-label.fitted input.sk-toggleable__control:checked~label.sk-toggleable__label {\n",
       "  background-color: var(--sklearn-color-fitted-level-2);\n",
       "}\n",
       "\n",
       "/* Estimator-specific style */\n",
       "\n",
       "/* Colorize estimator box */\n",
       "#sk-container-id-2 div.sk-estimator input.sk-toggleable__control:checked~label.sk-toggleable__label {\n",
       "  /* unfitted */\n",
       "  background-color: var(--sklearn-color-unfitted-level-2);\n",
       "}\n",
       "\n",
       "#sk-container-id-2 div.sk-estimator.fitted input.sk-toggleable__control:checked~label.sk-toggleable__label {\n",
       "  /* fitted */\n",
       "  background-color: var(--sklearn-color-fitted-level-2);\n",
       "}\n",
       "\n",
       "#sk-container-id-2 div.sk-label label.sk-toggleable__label,\n",
       "#sk-container-id-2 div.sk-label label {\n",
       "  /* The background is the default theme color */\n",
       "  color: var(--sklearn-color-text-on-default-background);\n",
       "}\n",
       "\n",
       "/* On hover, darken the color of the background */\n",
       "#sk-container-id-2 div.sk-label:hover label.sk-toggleable__label {\n",
       "  color: var(--sklearn-color-text);\n",
       "  background-color: var(--sklearn-color-unfitted-level-2);\n",
       "}\n",
       "\n",
       "/* Label box, darken color on hover, fitted */\n",
       "#sk-container-id-2 div.sk-label.fitted:hover label.sk-toggleable__label.fitted {\n",
       "  color: var(--sklearn-color-text);\n",
       "  background-color: var(--sklearn-color-fitted-level-2);\n",
       "}\n",
       "\n",
       "/* Estimator label */\n",
       "\n",
       "#sk-container-id-2 div.sk-label label {\n",
       "  font-family: monospace;\n",
       "  font-weight: bold;\n",
       "  display: inline-block;\n",
       "  line-height: 1.2em;\n",
       "}\n",
       "\n",
       "#sk-container-id-2 div.sk-label-container {\n",
       "  text-align: center;\n",
       "}\n",
       "\n",
       "/* Estimator-specific */\n",
       "#sk-container-id-2 div.sk-estimator {\n",
       "  font-family: monospace;\n",
       "  border: 1px dotted var(--sklearn-color-border-box);\n",
       "  border-radius: 0.25em;\n",
       "  box-sizing: border-box;\n",
       "  margin-bottom: 0.5em;\n",
       "  /* unfitted */\n",
       "  background-color: var(--sklearn-color-unfitted-level-0);\n",
       "}\n",
       "\n",
       "#sk-container-id-2 div.sk-estimator.fitted {\n",
       "  /* fitted */\n",
       "  background-color: var(--sklearn-color-fitted-level-0);\n",
       "}\n",
       "\n",
       "/* on hover */\n",
       "#sk-container-id-2 div.sk-estimator:hover {\n",
       "  /* unfitted */\n",
       "  background-color: var(--sklearn-color-unfitted-level-2);\n",
       "}\n",
       "\n",
       "#sk-container-id-2 div.sk-estimator.fitted:hover {\n",
       "  /* fitted */\n",
       "  background-color: var(--sklearn-color-fitted-level-2);\n",
       "}\n",
       "\n",
       "/* Specification for estimator info (e.g. \"i\" and \"?\") */\n",
       "\n",
       "/* Common style for \"i\" and \"?\" */\n",
       "\n",
       ".sk-estimator-doc-link,\n",
       "a:link.sk-estimator-doc-link,\n",
       "a:visited.sk-estimator-doc-link {\n",
       "  float: right;\n",
       "  font-size: smaller;\n",
       "  line-height: 1em;\n",
       "  font-family: monospace;\n",
       "  background-color: var(--sklearn-color-background);\n",
       "  border-radius: 1em;\n",
       "  height: 1em;\n",
       "  width: 1em;\n",
       "  text-decoration: none !important;\n",
       "  margin-left: 0.5em;\n",
       "  text-align: center;\n",
       "  /* unfitted */\n",
       "  border: var(--sklearn-color-unfitted-level-1) 1pt solid;\n",
       "  color: var(--sklearn-color-unfitted-level-1);\n",
       "}\n",
       "\n",
       ".sk-estimator-doc-link.fitted,\n",
       "a:link.sk-estimator-doc-link.fitted,\n",
       "a:visited.sk-estimator-doc-link.fitted {\n",
       "  /* fitted */\n",
       "  border: var(--sklearn-color-fitted-level-1) 1pt solid;\n",
       "  color: var(--sklearn-color-fitted-level-1);\n",
       "}\n",
       "\n",
       "/* On hover */\n",
       "div.sk-estimator:hover .sk-estimator-doc-link:hover,\n",
       ".sk-estimator-doc-link:hover,\n",
       "div.sk-label-container:hover .sk-estimator-doc-link:hover,\n",
       ".sk-estimator-doc-link:hover {\n",
       "  /* unfitted */\n",
       "  background-color: var(--sklearn-color-unfitted-level-3);\n",
       "  color: var(--sklearn-color-background);\n",
       "  text-decoration: none;\n",
       "}\n",
       "\n",
       "div.sk-estimator.fitted:hover .sk-estimator-doc-link.fitted:hover,\n",
       ".sk-estimator-doc-link.fitted:hover,\n",
       "div.sk-label-container:hover .sk-estimator-doc-link.fitted:hover,\n",
       ".sk-estimator-doc-link.fitted:hover {\n",
       "  /* fitted */\n",
       "  background-color: var(--sklearn-color-fitted-level-3);\n",
       "  color: var(--sklearn-color-background);\n",
       "  text-decoration: none;\n",
       "}\n",
       "\n",
       "/* Span, style for the box shown on hovering the info icon */\n",
       ".sk-estimator-doc-link span {\n",
       "  display: none;\n",
       "  z-index: 9999;\n",
       "  position: relative;\n",
       "  font-weight: normal;\n",
       "  right: .2ex;\n",
       "  padding: .5ex;\n",
       "  margin: .5ex;\n",
       "  width: min-content;\n",
       "  min-width: 20ex;\n",
       "  max-width: 50ex;\n",
       "  color: var(--sklearn-color-text);\n",
       "  box-shadow: 2pt 2pt 4pt #999;\n",
       "  /* unfitted */\n",
       "  background: var(--sklearn-color-unfitted-level-0);\n",
       "  border: .5pt solid var(--sklearn-color-unfitted-level-3);\n",
       "}\n",
       "\n",
       ".sk-estimator-doc-link.fitted span {\n",
       "  /* fitted */\n",
       "  background: var(--sklearn-color-fitted-level-0);\n",
       "  border: var(--sklearn-color-fitted-level-3);\n",
       "}\n",
       "\n",
       ".sk-estimator-doc-link:hover span {\n",
       "  display: block;\n",
       "}\n",
       "\n",
       "/* \"?\"-specific style due to the `<a>` HTML tag */\n",
       "\n",
       "#sk-container-id-2 a.estimator_doc_link {\n",
       "  float: right;\n",
       "  font-size: 1rem;\n",
       "  line-height: 1em;\n",
       "  font-family: monospace;\n",
       "  background-color: var(--sklearn-color-background);\n",
       "  border-radius: 1rem;\n",
       "  height: 1rem;\n",
       "  width: 1rem;\n",
       "  text-decoration: none;\n",
       "  /* unfitted */\n",
       "  color: var(--sklearn-color-unfitted-level-1);\n",
       "  border: var(--sklearn-color-unfitted-level-1) 1pt solid;\n",
       "}\n",
       "\n",
       "#sk-container-id-2 a.estimator_doc_link.fitted {\n",
       "  /* fitted */\n",
       "  border: var(--sklearn-color-fitted-level-1) 1pt solid;\n",
       "  color: var(--sklearn-color-fitted-level-1);\n",
       "}\n",
       "\n",
       "/* On hover */\n",
       "#sk-container-id-2 a.estimator_doc_link:hover {\n",
       "  /* unfitted */\n",
       "  background-color: var(--sklearn-color-unfitted-level-3);\n",
       "  color: var(--sklearn-color-background);\n",
       "  text-decoration: none;\n",
       "}\n",
       "\n",
       "#sk-container-id-2 a.estimator_doc_link.fitted:hover {\n",
       "  /* fitted */\n",
       "  background-color: var(--sklearn-color-fitted-level-3);\n",
       "}\n",
       "</style><div id=\"sk-container-id-2\" class=\"sk-top-container\"><div class=\"sk-text-repr-fallback\"><pre>Pipeline(steps=[(&#x27;preprocessor&#x27;, TextPreprocessor()),\n",
       "                (&#x27;vectorizer&#x27;,\n",
       "                 TfidfVectorizer(max_features=5000, ngram_range=(1, 2))),\n",
       "                (&#x27;classifier&#x27;, RandomForestClassifier())])</pre><b>In a Jupyter environment, please rerun this cell to show the HTML representation or trust the notebook. <br />On GitHub, the HTML representation is unable to render, please try loading this page with nbviewer.org.</b></div><div class=\"sk-container\" hidden><div class=\"sk-item sk-dashed-wrapped\"><div class=\"sk-label-container\"><div class=\"sk-label fitted sk-toggleable\"><input class=\"sk-toggleable__control sk-hidden--visually\" id=\"sk-estimator-id-5\" type=\"checkbox\" ><label for=\"sk-estimator-id-5\" class=\"sk-toggleable__label fitted sk-toggleable__label-arrow\"><div><div>Pipeline</div></div><div><a class=\"sk-estimator-doc-link fitted\" rel=\"noreferrer\" target=\"_blank\" href=\"https://scikit-learn.org/1.6/modules/generated/sklearn.pipeline.Pipeline.html\">?<span>Documentation for Pipeline</span></a><span class=\"sk-estimator-doc-link fitted\">i<span>Fitted</span></span></div></label><div class=\"sk-toggleable__content fitted\"><pre>Pipeline(steps=[(&#x27;preprocessor&#x27;, TextPreprocessor()),\n",
       "                (&#x27;vectorizer&#x27;,\n",
       "                 TfidfVectorizer(max_features=5000, ngram_range=(1, 2))),\n",
       "                (&#x27;classifier&#x27;, RandomForestClassifier())])</pre></div> </div></div><div class=\"sk-serial\"><div class=\"sk-item\"><div class=\"sk-estimator fitted sk-toggleable\"><input class=\"sk-toggleable__control sk-hidden--visually\" id=\"sk-estimator-id-6\" type=\"checkbox\" ><label for=\"sk-estimator-id-6\" class=\"sk-toggleable__label fitted sk-toggleable__label-arrow\"><div><div>TextPreprocessor</div></div></label><div class=\"sk-toggleable__content fitted\"><pre>TextPreprocessor()</pre></div> </div></div><div class=\"sk-item\"><div class=\"sk-estimator fitted sk-toggleable\"><input class=\"sk-toggleable__control sk-hidden--visually\" id=\"sk-estimator-id-7\" type=\"checkbox\" ><label for=\"sk-estimator-id-7\" class=\"sk-toggleable__label fitted sk-toggleable__label-arrow\"><div><div>TfidfVectorizer</div></div><div><a class=\"sk-estimator-doc-link fitted\" rel=\"noreferrer\" target=\"_blank\" href=\"https://scikit-learn.org/1.6/modules/generated/sklearn.feature_extraction.text.TfidfVectorizer.html\">?<span>Documentation for TfidfVectorizer</span></a></div></label><div class=\"sk-toggleable__content fitted\"><pre>TfidfVectorizer(max_features=5000, ngram_range=(1, 2))</pre></div> </div></div><div class=\"sk-item\"><div class=\"sk-estimator fitted sk-toggleable\"><input class=\"sk-toggleable__control sk-hidden--visually\" id=\"sk-estimator-id-8\" type=\"checkbox\" ><label for=\"sk-estimator-id-8\" class=\"sk-toggleable__label fitted sk-toggleable__label-arrow\"><div><div>RandomForestClassifier</div></div><div><a class=\"sk-estimator-doc-link fitted\" rel=\"noreferrer\" target=\"_blank\" href=\"https://scikit-learn.org/1.6/modules/generated/sklearn.ensemble.RandomForestClassifier.html\">?<span>Documentation for RandomForestClassifier</span></a></div></label><div class=\"sk-toggleable__content fitted\"><pre>RandomForestClassifier()</pre></div> </div></div></div></div></div></div>"
      ],
      "text/plain": [
       "Pipeline(steps=[('preprocessor', TextPreprocessor()),\n",
       "                ('vectorizer',\n",
       "                 TfidfVectorizer(max_features=5000, ngram_range=(1, 2))),\n",
       "                ('classifier', RandomForestClassifier())])"
      ]
     },
     "execution_count": 74,
     "metadata": {},
     "output_type": "execute_result"
    }
   ],
   "source": [
    "# Define the complete pipeline\n",
    "pipeline = Pipeline([\n",
    "    ('preprocessor', TextPreprocessor()),\n",
    "    ('vectorizer', TfidfVectorizer(max_features=5000, ngram_range=(1, 2))),\n",
    "    ('classifier', RandomForestClassifier())\n",
    "])\n",
    "\n",
    "# Train-test split\n",
    "X_train, X_test, y_train, y_test = train_test_split(\n",
    "    X, y, test_size=0.2, stratify=y, random_state=42\n",
    ")\n",
    "\n",
    "# Train pipeline\n",
    "pipeline.fit(X_train, y_train)"
   ]
  },
  {
   "cell_type": "code",
   "execution_count": 75,
   "id": "a3697bcb",
   "metadata": {},
   "outputs": [
    {
     "name": "stdout",
     "output_type": "stream",
     "text": [
      "              precision    recall  f1-score   support\n",
      "\n",
      "           0       0.98      0.94      0.96       125\n",
      "           1       0.93      0.93      0.93        30\n",
      "           2       0.92      0.96      0.94        91\n",
      "\n",
      "    accuracy                           0.95       246\n",
      "   macro avg       0.94      0.94      0.94       246\n",
      "weighted avg       0.95      0.95      0.95       246\n",
      "\n",
      "Confusion Matrix:\n",
      " [[118   1   6]\n",
      " [  0  28   2]\n",
      " [  3   1  87]]\n",
      "   Actual Predicted\n",
      "0    High      High\n",
      "1  Medium    Medium\n",
      "2    High      High\n",
      "3    High      High\n",
      "4    High      High\n",
      "5    High      High\n",
      "6  Medium    Medium\n",
      "7     Low       Low\n",
      "8    High    Medium\n",
      "9    High      High\n"
     ]
    },
    {
     "data": {
      "application/vnd.microsoft.datawrangler.viewer.v0+json": {
       "columns": [
        {
         "name": "index",
         "rawType": "int64",
         "type": "integer"
        },
        {
         "name": "Incident Description",
         "rawType": "object",
         "type": "string"
        }
       ],
       "ref": "fe660962-c02f-443d-be06-7e69fa29a0f4",
       "rows": [
        [
         "945",
         "Bandits fired indiscriminately in Kwakware village, Faskari LGA, Katsina State. An unspecified number of people were killed and abducted, and motorcycles and phones were stolen."
        ],
        [
         "605",
         "A mob attacked the Lafiyawo office of the Federal Road Safety Corps (FRSC) in Gombe, Gombe LGA, \nGombe State, over alleged extortion, and harassment. GSF personnel were deployed to the area to restore order.  "
        ],
        [
         "683",
         "ISWAP insurgents with a VBIED attacked GSF personnel in Kukawa LGA, Borno State. An unspecified number of GSF personnel were reportedly killed, and an armoured vehicle was destroyed."
        ],
        [
         "386",
         "GSF personnel on clearance operations engaged bandits in a firefight in Tumburku and Sabon Sara villages, Giwa LGA, Kaduna State. Two bandits were killed, and a motorcycle, a mobile phone, gas lighters, and tobacco were recovered."
        ],
        [
         "37",
         "Gang members shot and killed a man in the Ijeun Titun area of Abeokuta South LGA, Ogun State."
        ],
        [
         "422",
         "There was a violent clash between the Aiye and the Eiye cult gangs in Ikorodu, Ikorodu LGA, Lagos State. An unspecified number of people were killed."
        ],
        [
         "1180",
         "The Katsina State Government declared a 24-hour curfew in Dutsin Ma LGA, effective immediately, following increased security concerns resulting from the protests."
        ],
        [
         "475",
         "Civil servants held a protest on the premises of a commercial bank in Sokoto North LGA, Sokoto State, over the banks inability to pay their monthly salary saved there."
        ],
        [
         "955",
         "Bandits mounted an Illegal Vehicle Check Point (IVCP) along the Birnin Yero-Jangeru Road, Shinkafi LGA, Zamfara State. Two people were shot and killed, and two others were injured."
        ],
        [
         "333",
         " Herders attacked Edikwu-Olekle, Obinda-Odugbo, Ikobi, and Okpaha in Apa LGA, Benue State. At \nleast seven people including a married woman were killed."
        ],
        [
         "221",
         "Troops of Operation HADARIN DAJI supported by the Zamfara State Community Protection Guard conducted clearance operations at a bandits hideout in the vicinity of Magazu, Chafe LGA, Zamfara State. An unspecified number of bandits including their leader were killed."
        ],
        [
         "1100",
         "Gunmen abducted at least seven people in Idon community, Kajuru LGA, Kaduna State."
        ],
        [
         "505",
         "Youths held a protest in Oron LGA, Akwa Ibom State, over increased kidnapping, and violent crimes in the coastal areas of the state."
        ],
        [
         "192",
         "Increased tensions were reported in Ile-Ife, following the killing of an Eiye gang member around the Pedro area in Ile-Ife, Ife Central LGA, Osun State, during a clash between Eiye and Aiye cult gangs on 24Apr24. Eiye gang members were reportedly sighted in Ile-Ife for a planned reprisal attack over the killing of their member. "
        ],
        [
         "1",
         "Clearance operations by police at kidnappers' hideouts on the hills surrounding Zone A and B, Apo resettlement, Abuja"
        ],
        [
         "1093",
         "Troops of the Nigerian Army ambushed bandits along the Tasha-Bwari Road near Gurara town, between Kachia and Kagarko LGAs, Kaduna State. Two bandits were killed, an unspecified number sustained gunshot wounds, and arms were recovered."
        ],
        [
         "286",
         "Bandits mounted on motorcycles fired indiscriminately in Ungwan Dantata village, Gefe community, Kallah ward, Kajuru LGA, Kaduna State. Two people were killed, and 18 people were abducted."
        ],
        [
         "849",
         "Gunmen shot and killed a banker when he was returning from work in the Government Reservation Area (GRA), Benin City, Oredo LGA, Edo State."
        ],
        [
         "893",
         "Students of the University of Benin held a protest at the Ugbowo-Lagos section of the Benin-Ore Highway in Egor LGA, Edo State, over a power outage in the institutions campuses in Ugbowo and Ekhewan and an increase in transportation fares. The protesters blocked the road. GSF personnel were deployed to the area to restore order."
        ],
        [
         "911",
         "Armed men abducted the former Chairman of the Nigerian Labour Congress in the vicinity of Gwarimpa, AMAC, Abuja"
        ],
        [
         "1105",
         "Bandits abducted 12 farmers in Garin Zugu, Bukkuyum LGA, Zamfara State."
        ],
        [
         "502",
         "There was a violent clash between members of the Maphite and the Aye cult gangs along Wire Road in Ikpoba Okha LGA, Edo State. Two gang members were killed."
        ],
        [
         "891",
         "Armed robbers attacked a residence in Umusadege, Kwale, Ndokwa West LGA, Delta State. Vigilantes were deployed to the area and engaged the robbers in a firefight. Two robbers were injured."
        ],
        [
         "1128",
         "Students of the College of Medicine of the University of Lagos held a protest on the University Campus in Yaba, Lagos Mainland LGA, Lagos State, over the disconnection of the power supply to the campus due to the unpaid bills by the university management."
        ],
        [
         "1095",
         "Bandits mounted on at least 15 motorcycles were sighted around Gwargwabi village in Nahuche district, Bungudu LGA, Zamfara State."
        ],
        [
         "751",
         "Suspected herdsmen attacked Mararaban Azagwa and Alele villages in Maihula, Bali LGA, Taraba State. At least six people were killed and four people were injured. GSF personnel were deployed to the location to restore order"
        ],
        [
         "636",
         "Members of the Maphite cult gang killed a member of the Aye cult gang at Siluko Road in Egor LGA, Edo State."
        ],
        [
         "695",
         "GSF personnel supported by members of the Zamfara State Community Protection Guards engaged bandits in a firefight in the Mayanchi general area in Maru LGA, Zamfara State. One bandit was killed, and one AK 47 rifle, two motorcycles, and 410 rustled sheep were recovered."
        ],
        [
         "865",
         "A suicide bomber detonated explosives in the vicinity of the Gwoza General Hospital in Gwoza town, Gwoza LGA, Borno State. An unspecified number of people were killed and injured."
        ],
        [
         "586",
         "There was a violent clash between the Aye and the Eiye cult gangs at the DS Adegbenro ICT Polytechnic in Itori, Ewekoro LGA, Ogun State. At least one person was killed."
        ],
        [
         "1026",
         "Bandits killed a member of the Katsina Community Watch Corp (CWC) in Bare-Bari village, Safana LGA, Katsina State."
        ],
        [
         "775",
         "Gunmen fired indiscriminately in Umu-Ezuboke Umualor community, Isi-Uzo LGA, Enugu State. At least four people were shot and injured."
        ],
        [
         "470",
         "Bandits fired indiscriminately in Anguwan Wake village, Agunu ward, Kachia LGA, Kaduna State. Two people were killed, and an unspecified number of people abducted."
        ],
        [
         "1075",
         "A convoy of GSF personnel drove over an RPIED along the Monguno-Kukawa Road, Kukawa LGA, Borno State. An unspecified number of GSF personnel were killed."
        ],
        [
         "450",
         "There was a violent clash between members of the Vikings and the Aye cult gangs in Jenta Adamu, Jos, Jos North LGA, Plateau State. The clash started on 23May24 when one cult gang member was killed."
        ],
        [
         "1012",
         "Troops of the Nigerian Army conducted clearance operations at a JAS insurgents hideout in Bama town, Bama LGA, Borno State, resulting in a firefight between the soldiers and insurgents. Three insurgents were killed, 22 abducted victims were rescued, and valuables were destroyed."
        ],
        [
         "1178",
         "JAS insurgents killed two farmers in the vicinity of Bakko Road in Pulka, Gwoza LGA, Borno State."
        ],
        [
         "845",
         "GSF personnel engaged gunmen in a firefight at Ikot Udobong village in Etim Ekpo LGA, Akwa Ibom State. One gunman was killed, and one abducted victim was rescued."
        ],
        [
         "1220",
         "Women held a protest at the Samson Siasia Stadium in Yenagoa, Yenagoa LGA, Bayelsa State, in opposition to the planned #EndBadGovernance protest."
        ],
        [
         "726",
         "Vigilante members shot and killed a suspected kidnapper in Awuyemi community in the Okpella area of Etsako East LGA, Edo State."
        ],
        [
         "392",
         "Bandits attacked Barnawa village in Dogon Kade district, Kaura Namoda LGA, Zamfara State. Vigilantes were deployed to the area and engaged the bandits in a firefight. No further details."
        ],
        [
         "1215",
         "There was a violent clash between members of the Aye and the Eiye cult gangs in Ogwashi Uku, Aniocha South LGA, Delta State. One person was killed."
        ],
        [
         "925",
         "Bandits mounted an Illegal Vehicle Check Point (IVCP) in the vicinity of Maiwa Kura in Mafa LGA, Borno State. One person was shot and killed, and a vehicle and food supplies were stolen."
        ],
        [
         "978",
         "There was a violent clash between members of the Aye and the Eiye cult gangs in Oko-Afo in Badagry LGA, Lagos State. One person was killed."
        ],
        [
         "958",
         "Bandits attacked Gwaddodi community in Rabah LGA, Sokoto State, and abducted at least 30 people."
        ],
        [
         "961",
         "Members of the NASU and SSANU unions held a protest at the Abia State University (ABSU) in Isuikwuato LGA, Abia State, over unpaid salary arrears."
        ],
        [
         "20",
         "Three children were killed, and four others were injured while they were playing with a Dane gun in Didango Geita village, Karim-Lamido LGA, Taraba State."
        ],
        [
         "223",
         "Vigilantes killed four alleged bandits informants in Zurmi LGA, Zamfara State."
        ],
        [
         "676",
         "ISWAP insurgents mounted an Illegal Vehicle Checkpoint (IVCP) in the vicinity of Furram along the Magumeri-Gubio Road, Magumeri LGA, Borno State, and stole mobile phones, money, and other valuables from commuters."
        ],
        [
         "448",
         "At least 300 bandits attacked Kuchi community in Munya LGA, Niger State. Eight people were killed and at least 200 people were abducted."
        ]
       ],
       "shape": {
        "columns": 1,
        "rows": 246
       }
      },
      "text/plain": [
       "945    Bandits fired indiscriminately in Kwakware vil...\n",
       "605    A mob attacked the Lafiyawo office of the Fede...\n",
       "683    ISWAP insurgents with a VBIED attacked GSF per...\n",
       "386    GSF personnel on clearance operations engaged ...\n",
       "37     Gang members shot and killed a man in the Ijeu...\n",
       "                             ...                        \n",
       "793    There was a violent clash between members of t...\n",
       "596    Bandits attacked communities around Tunga-Kawo...\n",
       "176    Bandits attacked Dumfawa community in Zurmi LG...\n",
       "122    GSF personnel conducted clearance operations a...\n",
       "185    Unidentified armed men killed a police inspect...\n",
       "Name: Incident Description, Length: 246, dtype: object"
      ]
     },
     "execution_count": 75,
     "metadata": {},
     "output_type": "execute_result"
    }
   ],
   "source": [
    "# Predictions\n",
    "y_pred = pipeline.predict(X_test)\n",
    "\n",
    "# Metrics\n",
    "print(classification_report(y_test, y_pred))\n",
    "print(\"Confusion Matrix:\\n\", confusion_matrix(y_test, y_pred))\n",
    "\n",
    "# Side-by-side comparison\n",
    "results = pd.DataFrame({\n",
    "    'Actual': le.inverse_transform(y_test),\n",
    "    'Predicted': le.inverse_transform(y_pred)\n",
    "})\n",
    "print(results.head(10))\n",
    "X_test"
   ]
  },
  {
   "cell_type": "code",
   "execution_count": 78,
   "id": "497a2670",
   "metadata": {},
   "outputs": [
    {
     "name": "stdout",
     "output_type": "stream",
     "text": [
      "Prediction: ['Medium']\n",
      "Predictions: ['Low' 'Medium' 'Medium']\n"
     ]
    }
   ],
   "source": [
    "# Example 1: Single text prediction\n",
    "single_text = \"Clearance operations by police at kidnappers' hideouts on the hills surrounding Zone A and B, Apo resettlement, Abuja\"\n",
    "print(\"Prediction:\", le.inverse_transform(pipeline.predict(single_text)))\n",
    "\n",
    "# Example 2: NumPy array prediction\n",
    "text_array = np.array([\n",
    "  \"Civil servants held a protest on the premises of a commercial bank in Sokoto North LGA, Sokoto State, over the bankas inability to pay their monthly salary saved there.\",\n",
    "  \"Clearance operations by police at kidnappers' hideouts on the hills surrounding Zone A and B, Apo resettlement, Abuja\",\n",
    "  \"Coalition: Abuja hotel cancels booking for unveiling venue, opposition politicians kick \"\n",
    "])\n",
    "print(\"Predictions:\", le.inverse_transform(pipeline.predict(text_array)))"
   ]
  },
  {
   "cell_type": "code",
   "execution_count": null,
   "id": "1749f124",
   "metadata": {},
   "outputs": [],
   "source": []
  }
 ],
 "metadata": {
  "kernelspec": {
   "display_name": "tf_env",
   "language": "python",
   "name": "python3"
  },
  "language_info": {
   "codemirror_mode": {
    "name": "ipython",
    "version": 3
   },
   "file_extension": ".py",
   "mimetype": "text/x-python",
   "name": "python",
   "nbconvert_exporter": "python",
   "pygments_lexer": "ipython3",
   "version": "3.10.18"
  }
 },
 "nbformat": 4,
 "nbformat_minor": 5
}
